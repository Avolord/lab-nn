{
 "cells": [
  {
   "cell_type": "markdown",
   "metadata": {},
   "source": [
    "In der ersten eigenen Hausaufgabe des NN-Labs geht es darum, dass Ihr ein besseres Gefühl für die Zusammenhänge und Interaktionen in neuronalen Netzen bekommt."
   ]
  },
  {
   "cell_type": "markdown",
   "metadata": {},
   "source": [
    "# Aufgabe 1"
   ]
  },
  {
   "cell_type": "markdown",
   "metadata": {},
   "source": [
    "## 1.a)\n",
    "\n",
    "Nehmt das Trigram-LM und variiert es anhand von mindestens 3 Hyperparametern, die ihr mit mindestens 4 unterschiedlichen Werten (wenn möglich) testet.\n",
    "- z.B. Modell-basiert: Embedding size, hidden size, unterschiedliche Aktivierungsfunktionen, zusätzliche hidden layer\n",
    "- z.B. Trainings-basiert: batch size, learning rate, scheduler"
   ]
  },
  {
   "cell_type": "code",
   "execution_count": 4,
   "metadata": {},
   "outputs": [],
   "source": [
    "from collections import Counter\n",
    "import json\n",
    "import os\n",
    "import string\n",
    "import random\n",
    "\n",
    "import numpy as np\n",
    "import pandas as pd\n",
    "\n",
    "import torch\n",
    "import torch.nn as nn\n",
    "import torch.nn.functional as F\n",
    "import torch.optim as optim\n",
    "from sklearn.metrics import accuracy_score\n",
    "from torch.utils.data import Dataset, DataLoader"
   ]
  },
  {
   "cell_type": "markdown",
   "metadata": {},
   "source": [
    "## 1.b)\n",
    "Visualisiert den Verlauf des training loss über den Trainingsprozess (wie wir es mit den ersten neuronalen Netzen gemacht haben, mit denen wir die Punktwolken klassifiziert haben)!"
   ]
  },
  {
   "cell_type": "code",
   "execution_count": null,
   "metadata": {},
   "outputs": [],
   "source": []
  },
  {
   "cell_type": "markdown",
   "metadata": {},
   "source": [
    "## 1.c)\n",
    "Schaut euch kurz qualitativ die generierten Namen an — wie “gut” sind die Generierungen aus linguistischer Perspektive? Achtet auf Aspekte wie Abfolgen von Konsonanten und Vokalen (keine übermäßigen Konsonant- Cluster), Groß- und Kleinschreibung (Werden Großbuchstaben mitten im Namen generiert?) oder die Länge von Namen (Wann werden END-Tokens generiert?)!"
   ]
  },
  {
   "cell_type": "code",
   "execution_count": null,
   "metadata": {},
   "outputs": [],
   "source": []
  }
 ],
 "metadata": {
  "kernelspec": {
   "display_name": "lab-nn",
   "language": "python",
   "name": "python3"
  },
  "language_info": {
   "codemirror_mode": {
    "name": "ipython",
    "version": 3
   },
   "file_extension": ".py",
   "mimetype": "text/x-python",
   "name": "python",
   "nbconvert_exporter": "python",
   "pygments_lexer": "ipython3",
   "version": "3.12.3"
  }
 },
 "nbformat": 4,
 "nbformat_minor": 2
}
